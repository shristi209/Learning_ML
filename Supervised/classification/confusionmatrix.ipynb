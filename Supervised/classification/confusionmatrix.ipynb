{
 "cells": [
  {
   "cell_type": "markdown",
   "metadata": {},
   "source": [
    "# Confusion Matrix"
   ]
  },
  {
   "cell_type": "code",
   "execution_count": 6,
   "metadata": {},
   "outputs": [],
   "source": [
    "from sklearn.metrics import confusion_matrix, classification_report"
   ]
  },
  {
   "cell_type": "markdown",
   "metadata": {},
   "source": [
    "*   We are checking the performance of the model, just the basic truth and predictions between Autism and No Autism are given below.\n"
   ]
  },
  {
   "cell_type": "code",
   "execution_count": 7,
   "metadata": {},
   "outputs": [],
   "source": [
    "truth=[\"Autism\",\"Autism\",\"No Autism detedted\", \"Autism\",\"Autism\",\"No Autism detedted\",\"No Autism detedted\",\"Autism\",\"Autism\"]\n",
    "prediction=[\"No Autism detedted\",\"Autism\",\"No Autism detedted\", \"No Autism detedted\",\"Autism\",\"Autism\",\"Autism\",\"No Autism detedted\",\"Autism\"]"
   ]
  },
  {
   "cell_type": "code",
   "execution_count": 8,
   "metadata": {},
   "outputs": [
    {
     "name": "stdout",
     "output_type": "stream",
     "text": [
      "['Autism', 'Autism', 'No Autism detedted', 'Autism', 'Autism', 'No Autism detedted', 'No Autism detedted', 'Autism', 'Autism'] ['No Autism detedted', 'Autism', 'No Autism detedted', 'No Autism detedted', 'Autism', 'Autism', 'Autism', 'No Autism detedted', 'Autism']\n"
     ]
    }
   ],
   "source": [
    "print(truth, prediction)"
   ]
  },
  {
   "cell_type": "markdown",
   "metadata": {},
   "source": [
    "*   Accuracy, Precision, Recall and F1-score can be calculated using \"classification_report\""
   ]
  },
  {
   "cell_type": "code",
   "execution_count": 9,
   "metadata": {},
   "outputs": [
    {
     "name": "stdout",
     "output_type": "stream",
     "text": [
      "                    precision    recall  f1-score   support\n",
      "\n",
      "            Autism       0.60      0.50      0.55         6\n",
      "No Autism detedted       0.25      0.33      0.29         3\n",
      "\n",
      "          accuracy                           0.44         9\n",
      "         macro avg       0.42      0.42      0.42         9\n",
      "      weighted avg       0.48      0.44      0.46         9\n",
      "\n"
     ]
    }
   ],
   "source": [
    "print(classification_report(truth, prediction))   "
   ]
  }
 ],
 "metadata": {
  "kernelspec": {
   "display_name": "Python 3",
   "language": "python",
   "name": "python3"
  },
  "language_info": {
   "codemirror_mode": {
    "name": "ipython",
    "version": 3
   },
   "file_extension": ".py",
   "mimetype": "text/x-python",
   "name": "python",
   "nbconvert_exporter": "python",
   "pygments_lexer": "ipython3",
   "version": "3.11.3"
  },
  "orig_nbformat": 4
 },
 "nbformat": 4,
 "nbformat_minor": 2
}
